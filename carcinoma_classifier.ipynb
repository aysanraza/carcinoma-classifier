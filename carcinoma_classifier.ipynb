{
  "nbformat": 4,
  "nbformat_minor": 0,
  "metadata": {
    "colab": {
      "provenance": [],
      "toc_visible": true,
      "authorship_tag": "ABX9TyMN0CuWxv4cmGkfqFUChRh7"
    },
    "kernelspec": {
      "name": "python3",
      "display_name": "Python 3"
    },
    "language_info": {
      "name": "python"
    }
  },
  "cells": [
    {
      "cell_type": "markdown",
      "source": [
        "**Introduction**\n",
        "\n",
        "Machine learning (ML) is a rapidly evolving field that has the potential to revolutionize many industries, including healthcare. ML algorithms can be used to learn from large datasets of data and identify patterns that would be difficult or impossible for humans to find on their own. This makes ML ideal for a variety of tasks in healthcare, such as developing new diagnostic tools and predicting patient outcomes.\n",
        "\n",
        "One area where ML is having a major impact is in the field of RNA sequencing (RNA-seq). RNA-seq is a powerful technology that allows scientists to measure the expression of all the genes in a cell at once. This information can be used to identify biomarkers for disease, understand the molecular mechanisms of cancer, and develop new personalized treatments.\n",
        "\n",
        "ML algorithms can be used to analyze RNA-seq data to identify biomarkers for cancer and other diseases. ML can also be used to develop diagnostic tools that are more accurate and sensitive than traditional methods. For example, ML algorithms have been used to develop diagnostic tests for breast cancer, kidney cancer, and lung cancer that are more accurate than traditional methods such as mammography and biopsy.\n",
        "\n",
        "**Problem statement**\n",
        "\n",
        "Breast invasive carcinoma, kidney clear cell carcinoma, and lung adenocarcinoma are three of the most common types of cancer. Early detection and treatment of these cancers is essential for improving patient outcomes. However, traditional diagnostic methods for these cancers are not always accurate or sensitive.\n",
        "\n",
        "Machine learning assisted RNA sequencing based diagnostics have the potential to overcome the limitations of traditional diagnostic methods. ML algorithms can be used to analyze RNA-seq data to identify biomarkers for these cancers and develop diagnostic tools that are more accurate and sensitive.\n",
        "\n",
        "**Benefits of ML-assisted RNA-seq based diagnostics**\n",
        "\n",
        "Machine learning assisted RNA sequencing based diagnostics offer a number of benefits over traditional diagnostic methods, including:\n",
        "\n",
        "  * Improved accuracy and sensitivity: ML algorithms can be trained on large datasets of RNA-seq data to identify biomarkers for cancer with high accuracy and sensitivity. This means that machine learning assisted RNA sequencing based diagnostics can detect cancer earlier and more accurately than traditional methods.\n",
        "  * Reduced invasiveness: RNA-seq can be performed on liquid biopsies, such as blood or urine. This means that ML-assisted RNA-seq based diagnostics can be used to diagnose cancer without the need for invasive procedures such as biopsies.\n",
        "  * Personalization: Machine learning assisted RNA sequencing based diagnostics can be used to develop personalized diagnostic tools that are tailored to the individual patient's tumor. This can help to improve the accuracy of diagnosis and guide treatment decisions.\n"
      ],
      "metadata": {
        "id": "Wx2WqUuYi3yM"
      }
    },
    {
      "cell_type": "markdown",
      "source": [
        "# Importations"
      ],
      "metadata": {
        "id": "-ek9Z_BRahDw"
      }
    },
    {
      "cell_type": "code",
      "source": [
        "# importation\n",
        "\n",
        "# preprocessing\n",
        "import pandas as pd\n",
        "from sklearn.model_selection import train_test_split\n",
        "import numpy as np\n",
        "import matplotlib.pyplot as plt\n",
        "\n",
        "# dimentionality reduction\n",
        "from sklearn.pipeline import Pipeline\n",
        "from sklearn.preprocessing import StandardScaler\n",
        "from sklearn.model_selection import GridSearchCV\n",
        "\n",
        "# models\n",
        "from sklearn.linear_model import LogisticRegression\n",
        "from sklearn.svm import SVC\n",
        "from sklearn.decomposition import PCA\n",
        "from sklearn.preprocessing import StandardScaler\n",
        "from sklearn.naive_bayes import GaussianNB\n",
        "from sklearn.ensemble import RandomForestClassifier\n",
        "from sklearn.neighbors import KNeighborsClassifier\n",
        "from sklearn import tree\n",
        "\n",
        "# evaluations\n",
        "from sklearn.metrics import classification_report\n",
        "from sklearn.metrics import multilabel_confusion_matrix\n",
        "\n",
        "# others\n",
        "from sklearn.tree import export_text\n",
        "import plotly.graph_objects as go"
      ],
      "metadata": {
        "id": "COfTI_00Qvna"
      },
      "execution_count": null,
      "outputs": []
    },
    {
      "cell_type": "markdown",
      "metadata": {
        "id": "pjoo27Pdaoo8"
      },
      "source": [
        "# Data Preprocessings"
      ]
    },
    {
      "cell_type": "markdown",
      "metadata": {
        "id": "3xrH9NyNZiFY"
      },
      "source": [
        "## Features Importation and Preprocessing\n",
        "\n",
        "We extracted features into a Pandas DataFrame named `train_data.` We then transposed the DataFrame (swapped the rows and columns). We then used the Pandas `dropna()` and `drop_duplicates()` functions to preprocess the data. In the end, we had a processed DataFrame consisting of 1845 samples and 16340 features."
      ]
    },
    {
      "cell_type": "code",
      "execution_count": null,
      "metadata": {
        "colab": {
          "background_save": true
        },
        "id": "z8g9klf_RtXM",
        "outputId": "c70acfb2-ece8-4c4f-c5a1-fc587a6b7db3"
      },
      "outputs": [
        {
          "name": "stdout",
          "output_type": "stream",
          "text": [
            "Before processing:  (1845, 16340)\n",
            "After_1 processing:  (1845, 16340)\n",
            "After_2 processing:  (1845, 16340)\n"
          ]
        }
      ],
      "source": [
        "import pandas as pd\n",
        "\n",
        "# Import the training data\n",
        "train_data = pd.read_csv(\"/data/train_data.tsv\", sep='\\t')\n",
        "\n",
        "# Transpose the DataFrame\n",
        "train_data = train_data.T\n",
        "\n",
        "# Remove the last row\n",
        "train_data = train_data.tail(-1)\n",
        "\n",
        "# Print the shape of the DataFrame before processing\n",
        "print(\"Before processing: \",train_data.shape)\n",
        "\n",
        "# Drop rows with missing values\n",
        "train_data_1 = train_data.dropna()\n",
        "\n",
        "# Print the shape of the DataFrame after dropping rows with missing values\n",
        "print(\"After_1 processing: \",train_data_1.shape)\n",
        "\n",
        "# Drop duplicate rows\n",
        "train_data_1.drop_duplicates(inplace = True)\n",
        "\n",
        "# Print the shape of the DataFrame after dropping duplicate rows\n",
        "print(\"After_2 processing: \",train_data_1.shape)"
      ]
    },
    {
      "cell_type": "markdown",
      "metadata": {
        "id": "qLjI1ElfYQr4"
      },
      "source": [
        "## Labels importation\n",
        "\n",
        "We imported and extracted the data labels into a Pandas DataFrame `train_labels`. The DataFrame was extracted from a column named `X_primary_disease` in the metadata file. There were 1845 labels spanning between three cancer classes including `Breast invasive carcinoma`, `kidney clear cell carcinoma`, and `lung adenocarcinoma`."
      ]
    },
    {
      "cell_type": "code",
      "execution_count": null,
      "metadata": {
        "colab": {
          "base_uri": "https://localhost:8080/"
        },
        "id": "LXDU5HLnOnTN",
        "outputId": "e3c2e5b4-9002-45da-b38a-5fa9aefff518"
      },
      "outputs": [
        {
          "data": {
            "text/plain": [
              "(1845,)"
            ]
          },
          "execution_count": 5,
          "metadata": {},
          "output_type": "execute_result"
        }
      ],
      "source": [
        "#labels importation and preprocessing\n",
        "train_labels = pd.read_csv(\"/data/train_label.tsv\", sep='\\t')\n",
        "train_labels = train_labels.X_primary_disease\n",
        "train_labels.shape"
      ]
    },
    {
      "cell_type": "markdown",
      "metadata": {
        "id": "tvOoU8jUDqeZ"
      },
      "source": [
        "## Splitting Dataset\n",
        "\n",
        "The features and labels parameters are the input and output variables of the dataset, respectively. The test_size parameter specifies the proportion of the dataset to be used for the test set. The random_state parameter is used to ensure that the split is reproducible.\n",
        "\n",
        "The train_test_split() function returns four variables:\n",
        "\n",
        "* X_train: The training data features\n",
        "* X_test: The test data features\n",
        "* y_train: The training data labels\n",
        "* y_test: The test data labels\n",
        "\n",
        "The test_size parameter is set to 0.33, which means that 33% of the dataset will be used for the test set. The random_state parameter is set to 40, which ensures that the split is reproducible."
      ]
    },
    {
      "cell_type": "code",
      "execution_count": null,
      "metadata": {
        "colab": {
          "base_uri": "https://localhost:8080/"
        },
        "id": "wSi8JWJg8LVj",
        "outputId": "efeb2023-5fe8-4c11-dd7e-85203cd19585"
      },
      "outputs": [
        {
          "data": {
            "text/plain": [
              "(1236, 16340)"
            ]
          },
          "execution_count": 5,
          "metadata": {},
          "output_type": "execute_result"
        }
      ],
      "source": [
        "# train_test_split\n",
        "\n",
        "X_train, X_test, y_train, y_test = train_test_split(train_data, train_labels, test_size=0.33, random_state=40)"
      ]
    },
    {
      "cell_type": "markdown",
      "metadata": {
        "id": "st68ZjhPauRQ"
      },
      "source": [
        "# Dimentionality Reduction"
      ]
    },
    {
      "cell_type": "markdown",
      "source": [
        "## Optimizing the PCA\n",
        "\n",
        "Optimizing the PCA through GridSearchCV can help to improve the performance of the machine learning model. GridSearchCV can be used to optimize the PCA by finding the best value for the n_components parameter. The `n_components` parameter specifies the number of principal components to retain. A higher value of n_components will retain more information from the original data, but it will also make the model more complex and more likely to overfit. A lower value of n_components will reduce the complexity of the model, but it will also lose information from the original data.\n",
        "\n",
        "To use GridSearchCV to optimize the PCA, you would first need to create a pipeline that consists of the PCA transformer and the machine learning model that you want to use. The result of the analysis shows `'pca__n_components': 30` is a best parameter with `99% accuracy`."
      ],
      "metadata": {
        "id": "5s7Fod0IudKQ"
      }
    },
    {
      "cell_type": "code",
      "execution_count": null,
      "metadata": {
        "colab": {
          "base_uri": "https://localhost:8080/"
        },
        "id": "vIl3q1CaOZIc",
        "outputId": "c0e8fc66-5127-4505-ad6e-52aaf483eb9f"
      },
      "outputs": [
        {
          "name": "stdout",
          "output_type": "stream",
          "text": [
            "Best parameter (CV score=0.999):\n",
            "{'pca__n_components': 30}\n"
          ]
        }
      ],
      "source": [
        "# optimizing the PCA\n",
        "\n",
        "pca = PCA()\n",
        "scaler = StandardScaler()\n",
        "logistic = LogisticRegression(max_iter=10000, tol=0.1)\n",
        "#svm = SVC(gamma='auto')\n",
        "\n",
        "pipe = Pipeline(steps=[(\"scaler\", scaler), (\"pca\", pca), (\"logistic\", logistic)])\n",
        "\n",
        "param_grid = { \"pca__n_components\": [5, 15, 30, 40, 60] }\n",
        "\n",
        "search = GridSearchCV(pipe, param_grid, n_jobs=2)\n",
        "search.fit(X_train, y_train)\n",
        "print(\"Best parameter (CV score=%0.3f):\" % search.best_score_)\n",
        "print(search.best_params_)"
      ]
    },
    {
      "cell_type": "code",
      "execution_count": null,
      "metadata": {
        "colab": {
          "base_uri": "https://localhost:8080/",
          "height": 783
        },
        "id": "uceedFzOS3LL",
        "outputId": "41da81ac-593f-4420-b907-5c69eb9d417c"
      },
      "outputs": [
        {
          "name": "stderr",
          "output_type": "stream",
          "text": [
            "<ipython-input-7-c723cac4dd0c>:21: FutureWarning: Not prepending group keys to the result index of transform-like apply. In the future, the group keys will be included in the index, regardless of whether the applied function returns a like-indexed object.\n",
            "To preserve the previous behavior, use\n",
            "\n",
            "\t>>> .groupby(..., group_keys=False)\n",
            "\n",
            "To adopt the future behavior and silence this warning, use \n",
            "\n",
            "\t>>> .groupby(..., group_keys=True)\n",
            "  best_clfs = results.groupby(components_col).apply(\n"
          ]
        },
        {
          "data": {
            "image/png": "[encoded data removed]",
            "text/plain": [
              "<Figure size 600x600 with 2 Axes>"
            ]
          },
          "metadata": {},
          "output_type": "display_data"
        }
      ],
      "source": [
        "# Plot the PCA spectrum\n",
        "\n",
        "pca.fit(X_train)\n",
        "\n",
        "fig, (ax0, ax1) = plt.subplots(nrows=2, sharex=True, figsize=(6, 6))\n",
        "ax0.plot(\n",
        "    np.arange(1, pca.n_components_ + 1), pca.explained_variance_ratio_, \"+\", linewidth=2\n",
        ")\n",
        "ax0.set_ylabel(\"PCA explained variance ratio\")\n",
        "\n",
        "ax0.axvline(\n",
        "    search.best_estimator_.named_steps[\"pca\"].n_components,\n",
        "    linestyle=\":\",\n",
        "    label=\"n_components chosen\",\n",
        ")\n",
        "ax0.legend(prop=dict(size=12))\n",
        "\n",
        "# For each number of components, find the best classifier results\n",
        "results = pd.DataFrame(search.cv_results_)\n",
        "components_col = \"param_pca__n_components\"\n",
        "best_clfs = results.groupby(components_col).apply(\n",
        "    lambda g: g.nlargest(1, \"mean_test_score\")\n",
        ")\n",
        "\n",
        "best_clfs.plot(\n",
        "    x=components_col, y=\"mean_test_score\", yerr=\"std_test_score\", legend=False, ax=ax1\n",
        ")\n",
        "ax1.set_ylabel(\"Classification accuracy (val)\")\n",
        "ax1.set_xlabel(\"n_components\")\n",
        "\n",
        "plt.xlim(-1, 70)\n",
        "\n",
        "plt.tight_layout()\n",
        "plt.show()"
      ]
    },
    {
      "cell_type": "markdown",
      "metadata": {
        "id": "MztPvnSna3-W"
      },
      "source": [
        "# Training and Evaluation"
      ]
    },
    {
      "cell_type": "markdown",
      "source": [
        "## Training and Accuracy\n",
        "\n",
        "The Logistic Regression model has the highest accuracy score (0.99671) out of the five models we used. This means that the Logistic Regression model is the best model at predicting the target variable in our dataset. In addition to having the highest accuracy score, the Logistic Regression model is also a simple and interpretable model. This means that it is easy to understand how the model makes predictions, and it is possible to identify the features that are most important for prediction.\n",
        "\n",
        "⏬"
      ],
      "metadata": {
        "id": "6GNokWf1xBHw"
      }
    },
    {
      "cell_type": "code",
      "execution_count": null,
      "metadata": {
        "colab": {
          "base_uri": "https://localhost:8080/"
        },
        "id": "p9zvNAhKTFGU",
        "outputId": "73231675-9ada-4ffc-9eb3-6bbd842495af"
      },
      "outputs": [
        {
          "name": "stdout",
          "output_type": "stream",
          "text": [
            "Accuracy Score of Logistic Regression 0.9967159277504105\n",
            "Accuracy Score of SVM 0.5270935960591133\n",
            "Accuracy Score of KNN 0.9885057471264368\n",
            "Accuracy Score of Random Forest Classifier 0.7914614121510674\n",
            "Accuracy Score of GNB 0.986863711001642\n"
          ]
        }
      ],
      "source": [
        "#training\n",
        "#0 and min(n_samples, n_features)=1236\n",
        "\n",
        "pca2 = PCA(n_components=30)\n",
        "scaler = StandardScaler()\n",
        "logistic = LogisticRegression(max_iter=10000, tol=0.1)\n",
        "svm = SVC(gamma='auto')\n",
        "gnb = GaussianNB()\n",
        "rfc = RandomForestClassifier(max_depth=2, random_state=0)\n",
        "knn = KNeighborsClassifier(n_neighbors=3)\n",
        "\n",
        "\n",
        "\n",
        "pipe_logistic = Pipeline(steps=[(\"scaler\", scaler), (\"pca2\", pca2), (\"logistic\", logistic)])\n",
        "pipe_logistic.fit(X_train, y_train)\n",
        "print (\"Accuracy Score of Logistic Regression\", pipe_logistic.score(X_test, y_test))\n",
        "\n",
        "pipe_svm = Pipeline(steps=[(\"scaler\", scaler), (\"pca2\", pca2), (\"svm\", svm)])\n",
        "pipe_svm.fit(X_train, y_train)\n",
        "print (\"Accuracy Score of SVM\", pipe_svm.score(X_test, y_test))\n",
        "\n",
        "pipe_knn = Pipeline(steps=[(\"scaler\", scaler), (\"pca2\", pca2), (\"knn\", knn)])\n",
        "pipe_knn.fit(X_train, y_train)\n",
        "print (\"Accuracy Score of KNN\", pipe_knn.score(X_test, y_test))\n",
        "\n",
        "pipe_rfc = Pipeline(steps=[(\"scaler\", scaler), (\"pca2\", pca2), (\"rfc\", rfc)])\n",
        "pipe_rfc.fit(X_train, y_train)\n",
        "print (\"Accuracy Score of Random Forest Classifier\", pipe_rfc.score(X_test, y_test))\n",
        "\n",
        "pipe_gnb = Pipeline(steps=[(\"scaler\", scaler), (\"pca2\", pca2), (\"gnb\", gnb)])\n",
        "pipe_gnb.fit(X_train, y_train)\n",
        "print (\"Accuracy Score of GNB\", pipe_gnb.score(X_test, y_test))\n",
        "\n",
        "# logistic regression is standing out !!"
      ]
    },
    {
      "cell_type": "code",
      "execution_count": null,
      "metadata": {
        "colab": {
          "base_uri": "https://localhost:8080/",
          "height": 542
        },
        "id": "XUlAphBKLWSK",
        "outputId": "71f66ab6-27bb-40f3-d938-bd3679ec1cfa"
      },
      "outputs": [
        {
          "data": {
            "text/html": [
              "<html>\n",
              "<head><meta charset=\"utf-8\" /></head>\n",
              "<body>\n",
              "    <div>            <script src=\"https://cdnjs.cloudflare.com/ajax/libs/mathjax/2.7.5/MathJax.js?config=TeX-AMS-MML_SVG\"></script><script type=\"text/javascript\">if (window.MathJax && window.MathJax.Hub && window.MathJax.Hub.Config) {window.MathJax.Hub.Config({SVG: {font: \"STIX-Web\"}});}</script>                <script type=\"text/javascript\">window.PlotlyConfig = {MathJaxConfig: 'local'};</script>\n",
              "        <script charset=\"utf-8\" src=\"https://cdn.plot.ly/plotly-2.24.1.min.js\"></script>                <div id=\"afa93b92-aabf-436a-b58e-7b6edea2537b\" class=\"plotly-graph-div\" style=\"height:525px; width:100%;\"></div>            <script type=\"text/javascript\">                                    window.PLOTLYENV=window.PLOTLYENV || {};                                    if (document.getElementById(\"afa93b92-aabf-436a-b58e-7b6edea2537b\")) {                    Plotly.newPlot(                        \"afa93b92-aabf-436a-b58e-7b6edea2537b\",                        [{\"marker\":{\"color\":[\"lightslategray\",\"crimson\",\"lightslategray\",\"lightslategray\",\"lightslategray\"]},\"width\":[0.3,0.3,0.3,0.3,0.3],\"x\":[\"Logistic Regression\",\"SVM\",\"KNN\",\"Random Forest\",\"GBN\"],\"y\":[0.995,0.527,0.988,0.789,0.986],\"type\":\"bar\"}],                        {\"template\":{\"data\":{\"histogram2dcontour\":[{\"type\":\"histogram2dcontour\",\"colorbar\":{\"outlinewidth\":0,\"ticks\":\"\"},\"colorscale\":[[0.0,\"#0d0887\"],[0.1111111111111111,\"#46039f\"],[0.2222222222222222,\"#7201a8\"],[0.3333333333333333,\"#9c179e\"],[0.4444444444444444,\"#bd3786\"],[0.5555555555555556,\"#d8576b\"],[0.6666666666666666,\"#ed7953\"],[0.7777777777777778,\"#fb9f3a\"],[0.8888888888888888,\"#fdca26\"],[1.0,\"#f0f921\"]]}],\"choropleth\":[{\"type\":\"choropleth\",\"colorbar\":{\"outlinewidth\":0,\"ticks\":\"\"}}],\"histogram2d\":[{\"type\":\"histogram2d\",\"colorbar\":{\"outlinewidth\":0,\"ticks\":\"\"},\"colorscale\":[[0.0,\"#0d0887\"],[0.1111111111111111,\"#46039f\"],[0.2222222222222222,\"#7201a8\"],[0.3333333333333333,\"#9c179e\"],[0.4444444444444444,\"#bd3786\"],[0.5555555555555556,\"#d8576b\"],[0.6666666666666666,\"#ed7953\"],[0.7777777777777778,\"#fb9f3a\"],[0.8888888888888888,\"#fdca26\"],[1.0,\"#f0f921\"]]}],\"heatmap\":[{\"type\":\"heatmap\",\"colorbar\":{\"outlinewidth\":0,\"ticks\":\"\"},\"colorscale\":[[0.0,\"#0d0887\"],[0.1111111111111111,\"#46039f\"],[0.2222222222222222,\"#7201a8\"],[0.3333333333333333,\"#9c179e\"],[0.4444444444444444,\"#bd3786\"],[0.5555555555555556,\"#d8576b\"],[0.6666666666666666,\"#ed7953\"],[0.7777777777777778,\"#fb9f3a\"],[0.8888888888888888,\"#fdca26\"],[1.0,\"#f0f921\"]]}],\"heatmapgl\":[{\"type\":\"heatmapgl\",\"colorbar\":{\"outlinewidth\":0,\"ticks\":\"\"},\"colorscale\":[[0.0,\"#0d0887\"],[0.1111111111111111,\"#46039f\"],[0.2222222222222222,\"#7201a8\"],[0.3333333333333333,\"#9c179e\"],[0.4444444444444444,\"#bd3786\"],[0.5555555555555556,\"#d8576b\"],[0.6666666666666666,\"#ed7953\"],[0.7777777777777778,\"#fb9f3a\"],[0.8888888888888888,\"#fdca26\"],[1.0,\"#f0f921\"]]}],\"contourcarpet\":[{\"type\":\"contourcarpet\",\"colorbar\":{\"outlinewidth\":0,\"ticks\":\"\"}}],\"contour\":[{\"type\":\"contour\",\"colorbar\":{\"outlinewidth\":0,\"ticks\":\"\"},\"colorscale\":[[0.0,\"#0d0887\"],[0.1111111111111111,\"#46039f\"],[0.2222222222222222,\"#7201a8\"],[0.3333333333333333,\"#9c179e\"],[0.4444444444444444,\"#bd3786\"],[0.5555555555555556,\"#d8576b\"],[0.6666666666666666,\"#ed7953\"],[0.7777777777777778,\"#fb9f3a\"],[0.8888888888888888,\"#fdca26\"],[1.0,\"#f0f921\"]]}],\"surface\":[{\"type\":\"surface\",\"colorbar\":{\"outlinewidth\":0,\"ticks\":\"\"},\"colorscale\":[[0.0,\"#0d0887\"],[0.1111111111111111,\"#46039f\"],[0.2222222222222222,\"#7201a8\"],[0.3333333333333333,\"#9c179e\"],[0.4444444444444444,\"#bd3786\"],[0.5555555555555556,\"#d8576b\"],[0.6666666666666666,\"#ed7953\"],[0.7777777777777778,\"#fb9f3a\"],[0.8888888888888888,\"#fdca26\"],[1.0,\"#f0f921\"]]}],\"mesh3d\":[{\"type\":\"mesh3d\",\"colorbar\":{\"outlinewidth\":0,\"ticks\":\"\"}}],\"scatter\":[{\"fillpattern\":{\"fillmode\":\"overlay\",\"size\":10,\"solidity\":0.2},\"type\":\"scatter\"}],\"parcoords\":[{\"type\":\"parcoords\",\"line\":{\"colorbar\":{\"outlinewidth\":0,\"ticks\":\"\"}}}],\"scatterpolargl\":[{\"type\":\"scatterpolargl\",\"marker\":{\"colorbar\":{\"outlinewidth\":0,\"ticks\":\"\"}}}],\"bar\":[{\"error_x\":{\"color\":\"#2a3f5f\"},\"error_y\":{\"color\":\"#2a3f5f\"},\"marker\":{\"line\":{\"color\":\"#E5ECF6\",\"width\":0.5},\"pattern\":{\"fillmode\":\"overlay\",\"size\":10,\"solidity\":0.2}},\"type\":\"bar\"}],\"scattergeo\":[{\"type\":\"scattergeo\",\"marker\":{\"colorbar\":{\"outlinewidth\":0,\"ticks\":\"\"}}}],\"scatterpolar\":[{\"type\":\"scatterpolar\",\"marker\":{\"colorbar\":{\"outlinewidth\":0,\"ticks\":\"\"}}}],\"histogram\":[{\"marker\":{\"pattern\":{\"fillmode\":\"overlay\",\"size\":10,\"solidity\":0.2}},\"type\":\"histogram\"}],\"scattergl\":[{\"type\":\"scattergl\",\"marker\":{\"colorbar\":{\"outlinewidth\":0,\"ticks\":\"\"}}}],\"scatter3d\":[{\"type\":\"scatter3d\",\"line\":{\"colorbar\":{\"outlinewidth\":0,\"ticks\":\"\"}},\"marker\":{\"colorbar\":{\"outlinewidth\":0,\"ticks\":\"\"}}}],\"scattermapbox\":[{\"type\":\"scattermapbox\",\"marker\":{\"colorbar\":{\"outlinewidth\":0,\"ticks\":\"\"}}}],\"scatterternary\":[{\"type\":\"scatterternary\",\"marker\":{\"colorbar\":{\"outlinewidth\":0,\"ticks\":\"\"}}}],\"scattercarpet\":[{\"type\":\"scattercarpet\",\"marker\":{\"colorbar\":{\"outlinewidth\":0,\"ticks\":\"\"}}}],\"carpet\":[{\"aaxis\":{\"endlinecolor\":\"#2a3f5f\",\"gridcolor\":\"white\",\"linecolor\":\"white\",\"minorgridcolor\":\"white\",\"startlinecolor\":\"#2a3f5f\"},\"baxis\":{\"endlinecolor\":\"#2a3f5f\",\"gridcolor\":\"white\",\"linecolor\":\"white\",\"minorgridcolor\":\"white\",\"startlinecolor\":\"#2a3f5f\"},\"type\":\"carpet\"}],\"table\":[{\"cells\":{\"fill\":{\"color\":\"#EBF0F8\"},\"line\":{\"color\":\"white\"}},\"header\":{\"fill\":{\"color\":\"#C8D4E3\"},\"line\":{\"color\":\"white\"}},\"type\":\"table\"}],\"barpolar\":[{\"marker\":{\"line\":{\"color\":\"#E5ECF6\",\"width\":0.5},\"pattern\":{\"fillmode\":\"overlay\",\"size\":10,\"solidity\":0.2}},\"type\":\"barpolar\"}],\"pie\":[{\"automargin\":true,\"type\":\"pie\"}]},\"layout\":{\"autotypenumbers\":\"strict\",\"colorway\":[\"#636efa\",\"#EF553B\",\"#00cc96\",\"#ab63fa\",\"#FFA15A\",\"#19d3f3\",\"#FF6692\",\"#B6E880\",\"#FF97FF\",\"#FECB52\"],\"font\":{\"color\":\"#2a3f5f\"},\"hovermode\":\"closest\",\"hoverlabel\":{\"align\":\"left\"},\"paper_bgcolor\":\"white\",\"plot_bgcolor\":\"#E5ECF6\",\"polar\":{\"bgcolor\":\"#E5ECF6\",\"angularaxis\":{\"gridcolor\":\"white\",\"linecolor\":\"white\",\"ticks\":\"\"},\"radialaxis\":{\"gridcolor\":\"white\",\"linecolor\":\"white\",\"ticks\":\"\"}},\"ternary\":{\"bgcolor\":\"#E5ECF6\",\"aaxis\":{\"gridcolor\":\"white\",\"linecolor\":\"white\",\"ticks\":\"\"},\"baxis\":{\"gridcolor\":\"white\",\"linecolor\":\"white\",\"ticks\":\"\"},\"caxis\":{\"gridcolor\":\"white\",\"linecolor\":\"white\",\"ticks\":\"\"}},\"coloraxis\":{\"colorbar\":{\"outlinewidth\":0,\"ticks\":\"\"}},\"colorscale\":{\"sequential\":[[0.0,\"#0d0887\"],[0.1111111111111111,\"#46039f\"],[0.2222222222222222,\"#7201a8\"],[0.3333333333333333,\"#9c179e\"],[0.4444444444444444,\"#bd3786\"],[0.5555555555555556,\"#d8576b\"],[0.6666666666666666,\"#ed7953\"],[0.7777777777777778,\"#fb9f3a\"],[0.8888888888888888,\"#fdca26\"],[1.0,\"#f0f921\"]],\"sequentialminus\":[[0.0,\"#0d0887\"],[0.1111111111111111,\"#46039f\"],[0.2222222222222222,\"#7201a8\"],[0.3333333333333333,\"#9c179e\"],[0.4444444444444444,\"#bd3786\"],[0.5555555555555556,\"#d8576b\"],[0.6666666666666666,\"#ed7953\"],[0.7777777777777778,\"#fb9f3a\"],[0.8888888888888888,\"#fdca26\"],[1.0,\"#f0f921\"]],\"diverging\":[[0,\"#8e0152\"],[0.1,\"#c51b7d\"],[0.2,\"#de77ae\"],[0.3,\"#f1b6da\"],[0.4,\"#fde0ef\"],[0.5,\"#f7f7f7\"],[0.6,\"#e6f5d0\"],[0.7,\"#b8e186\"],[0.8,\"#7fbc41\"],[0.9,\"#4d9221\"],[1,\"#276419\"]]},\"xaxis\":{\"gridcolor\":\"white\",\"linecolor\":\"white\",\"ticks\":\"\",\"title\":{\"standoff\":15},\"zerolinecolor\":\"white\",\"automargin\":true,\"zerolinewidth\":2},\"yaxis\":{\"gridcolor\":\"white\",\"linecolor\":\"white\",\"ticks\":\"\",\"title\":{\"standoff\":15},\"zerolinecolor\":\"white\",\"automargin\":true,\"zerolinewidth\":2},\"scene\":{\"xaxis\":{\"backgroundcolor\":\"#E5ECF6\",\"gridcolor\":\"white\",\"linecolor\":\"white\",\"showbackground\":true,\"ticks\":\"\",\"zerolinecolor\":\"white\",\"gridwidth\":2},\"yaxis\":{\"backgroundcolor\":\"#E5ECF6\",\"gridcolor\":\"white\",\"linecolor\":\"white\",\"showbackground\":true,\"ticks\":\"\",\"zerolinecolor\":\"white\",\"gridwidth\":2},\"zaxis\":{\"backgroundcolor\":\"#E5ECF6\",\"gridcolor\":\"white\",\"linecolor\":\"white\",\"showbackground\":true,\"ticks\":\"\",\"zerolinecolor\":\"white\",\"gridwidth\":2}},\"shapedefaults\":{\"line\":{\"color\":\"#2a3f5f\"}},\"annotationdefaults\":{\"arrowcolor\":\"#2a3f5f\",\"arrowhead\":0,\"arrowwidth\":1},\"geo\":{\"bgcolor\":\"white\",\"landcolor\":\"#E5ECF6\",\"subunitcolor\":\"white\",\"showland\":true,\"showlakes\":true,\"lakecolor\":\"white\"},\"title\":{\"x\":0.05},\"mapbox\":{\"style\":\"light\"}}},\"title\":{\"text\":\"Accuray of Different Models With (n_component = 30)\"}},                        {\"responsive\": true}                    ).then(function(){\n",
              "                            \n",
              "var gd = document.getElementById('afa93b92-aabf-436a-b58e-7b6edea2537b');\n",
              "var x = new MutationObserver(function (mutations, observer) {{\n",
              "        var display = window.getComputedStyle(gd).display;\n",
              "        if (!display || display === 'none') {{\n",
              "            console.log([gd, 'removed!']);\n",
              "            Plotly.purge(gd);\n",
              "            observer.disconnect();\n",
              "        }}\n",
              "}});\n",
              "\n",
              "// Listen for the removal of the full notebook cells\n",
              "var notebookContainer = gd.closest('#notebook-container');\n",
              "if (notebookContainer) {{\n",
              "    x.observe(notebookContainer, {childList: true});\n",
              "}}\n",
              "\n",
              "// Listen for the clearing of the current output cell\n",
              "var outputEl = gd.closest('.output');\n",
              "if (outputEl) {{\n",
              "    x.observe(outputEl, {childList: true});\n",
              "}}\n",
              "\n",
              "                        })                };                            </script>        </div>\n",
              "</body>\n",
              "</html>"
            ]
          },
          "metadata": {},
          "output_type": "display_data"
        }
      ],
      "source": [
        "# visualize the models\n",
        "\n",
        "colors = ['lightslategray',] * 5\n",
        "colors[1] = 'crimson'\n",
        "\n",
        "fig = go.Figure(data=[go.Bar(\n",
        "    x=['Logistic Regression', 'SVM', 'KNN',\n",
        "       'Random Forest', 'GBN'],\n",
        "    y=[0.995, 0.527, 0.988, 0.789, 0.986],\n",
        "    width=[0.3, 0.3, 0.3, 0.3, 0.3],\n",
        "    marker_color=colors # marker color can be a single color value or an iterable\n",
        ")])\n",
        "fig.update_layout(title_text='Accuray of Different Models With (n_component = 30)')\n"
      ]
    },
    {
      "cell_type": "markdown",
      "source": [
        "## Evaluation Matrix"
      ],
      "metadata": {
        "id": "IT5zGfJro5TL"
      }
    },
    {
      "cell_type": "code",
      "execution_count": null,
      "metadata": {
        "colab": {
          "base_uri": "https://localhost:8080/"
        },
        "id": "j_kFiybK5ltN",
        "outputId": "e87a73cc-def0-4720-bfc8-4c6c1a26e8fb"
      },
      "outputs": [
        {
          "name": "stdout",
          "output_type": "stream",
          "text": [
            "                             precision    recall  f1-score   support\n",
            "\n",
            "  breast invasive carcinoma       1.00      1.00      1.00       321\n",
            "kidney clear cell carcinoma       0.99      0.99      0.99       133\n",
            "        lung adenocarcinoma       1.00      0.99      1.00       155\n",
            "\n",
            "                   accuracy                           1.00       609\n",
            "                  macro avg       1.00      1.00      1.00       609\n",
            "               weighted avg       1.00      1.00      1.00       609\n",
            "\n"
          ]
        }
      ],
      "source": [
        "#evaluations\n",
        "predictions_eval = pipe_logistic.predict(X_test)\n",
        "target_names = ['breast invasive carcinoma', 'kidney clear cell carcinoma', 'lung adenocarcinoma']\n",
        "print(classification_report(y_test, predictions_eval, target_names=target_names))"
      ]
    },
    {
      "cell_type": "code",
      "execution_count": null,
      "metadata": {
        "colab": {
          "base_uri": "https://localhost:8080/"
        },
        "id": "5M8Ahtv22KKf",
        "outputId": "3645bd4c-22d3-46d9-c02b-8467677c78e2"
      },
      "outputs": [
        {
          "data": {
            "text/plain": [
              "array([[[287,   1],\n",
              "        [  0, 321]],\n",
              "\n",
              "       [[475,   1],\n",
              "        [  1, 132]],\n",
              "\n",
              "       [[454,   0],\n",
              "        [  1, 154]]])"
            ]
          },
          "execution_count": 12,
          "metadata": {},
          "output_type": "execute_result"
        }
      ],
      "source": [
        "multilabel_confusion_matrix(y_test, predictions_eval)"
      ]
    },
    {
      "cell_type": "markdown",
      "source": [
        "# Explainable AI for RNA-Seq based Diagnostic Rules"
      ],
      "metadata": {
        "id": "d1kWqo-PowE2"
      }
    },
    {
      "cell_type": "markdown",
      "source": [
        "The plot_tree() function in the scikit-learn library can be used to define the rules for RNA-seq based cancer subtyping or diagnosis by visualizing the decision tree model learned from the RNA-seq data. The function takes a decision tree model as input and generates a plot that shows the different nodes and branches of the tree. Each node in the tree represents a decision rule, and each branch represents a possible outcome of the rule. You can use the plot to identify the different decision rules that the model is using to predict the cancer subtype or diagnosis.\n",
        "\n",
        "For example, the following is a simplified example of a decision tree for cancer subtyping:\n",
        "```\n",
        "If gene_1 expression > 0.5:\n",
        "    If gene_2 expression > 0.5:\n",
        "        Cancer subtype A\n",
        "    Else:\n",
        "        Cancer subtype B\n",
        "Else:\n",
        "    Cancer subtype C\n",
        "```\n",
        "\n",
        "\n",
        "This decision tree uses the expression levels of two genes to predict the cancer subtype. If the expression of gene_1 is greater than 0.5, then the model predicts that the cancer subtype is A or B, depending on the expression of gene_2. If the expression of gene_1 is less than or equal to 0.5, then the model predicts that the cancer subtype is C. We can use these rules to develop a diagnostic test or to identify biomarkers for cancer subtyping.\n",
        "\n",
        "⏬"
      ],
      "metadata": {
        "id": "qInXo3A6qGBG"
      }
    },
    {
      "cell_type": "code",
      "execution_count": null,
      "metadata": {
        "colab": {
          "base_uri": "https://localhost:8080/",
          "height": 858
        },
        "id": "RtShq1y2oCgH",
        "outputId": "53c483fe-db8f-41b4-913e-fb852f6b25e1"
      },
      "outputs": [
        {
          "name": "stdout",
          "output_type": "stream",
          "text": [
            "|--- feature_13882 <= 3.15\n",
            "|   |--- feature_9845 <= 10.11\n",
            "|   |   |--- feature_4203 <= 0.49\n",
            "|   |   |   |--- class: lung adenocarcinoma\n",
            "|   |   |--- feature_4203 >  0.49\n",
            "|   |   |   |--- feature_2620 <= 10.65\n",
            "|   |   |   |   |--- class: breast invasive carcinoma\n",
            "|   |   |   |--- feature_2620 >  10.65\n",
            "|   |   |   |   |--- class: lung adenocarcinoma\n",
            "|   |--- feature_9845 >  10.11\n",
            "|   |   |--- class: kidney clear cell carcinoma\n",
            "|--- feature_13882 >  3.15\n",
            "|   |--- feature_12424 <= 6.03\n",
            "|   |   |--- feature_3897 <= 8.96\n",
            "|   |   |   |--- class: kidney clear cell carcinoma\n",
            "|   |   |--- feature_3897 >  8.96\n",
            "|   |   |   |--- feature_5973 <= 4.45\n",
            "|   |   |   |   |--- class: breast invasive carcinoma\n",
            "|   |   |   |--- feature_5973 >  4.45\n",
            "|   |   |   |   |--- class: lung adenocarcinoma\n",
            "|   |--- feature_12424 >  6.03\n",
            "|   |   |--- feature_7881 <= 5.88\n",
            "|   |   |   |--- class: breast invasive carcinoma\n",
            "|   |   |--- feature_7881 >  5.88\n",
            "|   |   |   |--- class: lung adenocarcinoma\n",
            "\n"
          ]
        },
        {
          "data": {
            "image/png": "[encoded data removed]",
            "text/plain": [
              "<Figure size 640x480 with 1 Axes>"
            ]
          },
          "metadata": {},
          "output_type": "display_data"
        }
      ],
      "source": [
        "clf = tree.DecisionTreeClassifier()\n",
        "clf = clf.fit(X_train, y_train)\n",
        "tree.plot_tree(clf)\n",
        "r = export_text(clf)\n",
        "print (r)"
      ]
    },
    {
      "cell_type": "markdown",
      "metadata": {
        "id": "0YXiJpr_bXCM"
      },
      "source": [
        "# Conclution and Prospects"
      ]
    },
    {
      "cell_type": "markdown",
      "metadata": {
        "id": "wJ9Mrj5GFwEV"
      },
      "source": [
        "RNA-Seq datasets can be trained using artificial intelligence to predict cancer subtypes for early cancer diagnosis. This study used an RNA-Seq cancer dataset extracted from the TCGA database. The dataset consisted of an RNA-Seq read count file with 1845 cancer samples measured across 16340 genes, and a label file containing the labels or subtypes of the 1845 samples as either breast invasive carcinoma, kidney clear cell carcinoma, or lung adenocarcinoma. The comparartive algorithmic analysis is given below:\n",
        "```\n",
        "Accuracy Score of Logistic Regression 0.9967159277504105\n",
        "Accuracy Score of SVM 0.5270935960591133\n",
        "Accuracy Score of KNN 0.9885057471264368\n",
        "Accuracy Score of Random Forest Classifier 0.8013136288998358\n",
        "Accuracy Score of GNB 0.986863711001642\n",
        "```\n",
        "As the logistic regression was the most promanent candidate for leading forth, we trained on all three classes with the following evaluations:\n",
        "```\n",
        "                                precision    recall  f1-score   support\n",
        "\n",
        "  breast invasive carcinoma       1.00      1.00      1.00       321\n",
        "kidney clear cell carcinoma       0.99      0.99      0.99       133\n",
        "        lung adenocarcinoma       1.00      0.99      1.00       155\n",
        "```\n",
        "\n",
        "The trained logistic regression algorithm was able to predict the RNA-Seq based cancer subtypes with exceptionally well evaluation performance on over 600 human samples. This study has demonstrated the potential of RNA-Seq datasets in differentiating between different cancers, which can be led forth with:\n",
        "\n",
        "* Classifying subtypes of any specific cancer\n",
        "* Finding the biological relevance of differentiating subtypes\n",
        "* Making clinical diagnostic friendly toolkits\n",
        "\n",
        "The results of this study are very promising, but it is important to note that the model has only been evaluated on a single dataset. It is important to evaluate the performance of the model on additional datasets.\n"
      ]
    },
    {
      "cell_type": "markdown",
      "metadata": {
        "id": "JdV3y16aBMRm"
      },
      "source": [
        "# About Me:\n",
        "\n",
        "I am a Bioinformatics and Machine learning expert, practecing insilico development and analytics in the domain of biology and medicine. I am open for research collaborations, you can email me to discuss.\n",
        "\n",
        "Thank you,\n",
        "```\n",
        "Ahsan Raza\n",
        "\n",
        "Masters in Bioinformatics\n",
        "\n",
        "aysanraza@gmail.com\n",
        "\n",
        "Islamabad, Pakistan.\n",
        "```\n",
        "\n",
        "# 💻 Tech Stack:\n",
        "![Python](https://img.shields.io/badge/python-3670A0?style=for-the-badge&logo=python&logoColor=ffdd54) ![Shell Script](https://img.shields.io/badge/shell_script-%23121011.svg?style=for-the-badge&logo=gnu-bash&logoColor=white) ![Anaconda](https://img.shields.io/badge/Anaconda-%2344A833.svg?style=for-the-badge&logo=anaconda&logoColor=white) ![GitHub](https://img.shields.io/badge/GitHub-%23121011.svg?style=for-the-badge&logo=github&logoColor=white) \t![Neo4J](https://img.shields.io/badge/Neo4j-008CC1?style=for-the-badge&logo=neo4j&logoColor=white) ![SQLite](https://img.shields.io/badge/sqlite-%2307405e.svg?style=for-the-badge&logo=sqlite&logoColor=white) ![MySQL](https://img.shields.io/badge/mysql-%2300f.svg?style=for-the-badge&logo=mysql&logoColor=white) ![scikit-learn](https://img.shields.io/badge/scikit--learn-%23F7931E.svg?style=for-the-badge&logo=scikit-learn&logoColor=white) ![SciPy](https://img.shields.io/badge/SciPy-%230C55A5.svg?style=for-the-badge&logo=scipy&logoColor=%white) ![Plotly](https://img.shields.io/badge/Plotly-%233F4F75.svg?style=for-the-badge&logo=plotly&logoColor=white) ![TensorFlow](https://img.shields.io/badge/TensorFlow-%23FF6F00.svg?style=for-the-badge&logo=TensorFlow&logoColor=white) ![Pandas](https://img.shields.io/badge/pandas-%23150458.svg?style=for-the-badge&logo=pandas&logoColor=white) ![NumPy](https://img.shields.io/badge/numpy-%23013243.svg?style=for-the-badge&logo=numpy&logoColor=white) ![Keras](https://img.shields.io/badge/Keras-%23D00000.svg?style=for-the-badge&logo=Keras&logoColor=white) ![GIT](https://img.shields.io/badge/Git-fc6d26?style=for-the-badge&logo=git&logoColor=white) ![LINUX](https://img.shields.io/badge/Linux-FCC624?style=for-the-badge&logo=linux&logoColor=black)\n",
        "\n",
        " ## 💰 You can help me by Donating\n",
        "  [![BuyMeACoffee](https://img.shields.io/badge/Buy%20Me%20a%20Coffee-ffdd00?style=for-the-badge&logo=buy-me-a-coffee&logoColor=black)](https://buymeacoffee.com/https://www.buymeacoffee.com/aysanraza)"
      ]
    }
  ]
}