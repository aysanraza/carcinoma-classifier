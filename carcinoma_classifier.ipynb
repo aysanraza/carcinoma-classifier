{
  "nbformat": 4,
  "nbformat_minor": 0,
  "metadata": {
    "colab": {
      "provenance": [],
      "authorship_tag": "ABX9TyN0CCgCZ6n4SkhSGHsS87rs"
    },
    "kernelspec": {
      "name": "python3",
      "display_name": "Python 3"
    },
    "language_info": {
      "name": "python"
    }
  },
  "cells": [
    {
      "cell_type": "markdown",
      "source": [
        "**Introduction**\n",
        "\n",
        "Machine learning (ML) is a rapidly evolving field that has the potential to revolutionize many industries, including healthcare. ML algorithms can be used to learn from large datasets of data and identify patterns that would be difficult or impossible for humans to find on their own. This makes ML ideal for a variety of tasks in healthcare, such as developing new diagnostic tools and predicting patient outcomes.\n",
        "\n",
        "One area where ML is having a major impact is in the field of RNA sequencing (RNA-seq). RNA-seq is a powerful technology that allows scientists to measure the expression of all the genes in a cell at once. This information can be used to identify biomarkers for disease, understand the molecular mechanisms of cancer, and develop new personalized treatments.\n",
        "\n",
        "ML algorithms can be used to analyze RNA-seq data to identify biomarkers for cancer and other diseases. ML can also be used to develop diagnostic tools that are more accurate and sensitive than traditional methods. For example, ML algorithms have been used to develop diagnostic tests for breast cancer, kidney cancer, and lung cancer that are more accurate than traditional methods such as mammography and biopsy.\n",
        "\n",
        "**Problem statement**\n",
        "\n",
        "Breast invasive carcinoma, kidney clear cell carcinoma, and lung adenocarcinoma are three of the most common types of cancer. Early detection and treatment of these cancers is essential for improving patient outcomes. However, traditional diagnostic methods for these cancers are not always accurate or sensitive.\n",
        "\n",
        "Machine learning assisted RNA sequencing based diagnostics have the potential to overcome the limitations of traditional diagnostic methods. ML algorithms can be used to analyze RNA-seq data to identify biomarkers for these cancers and develop diagnostic tools that are more accurate and sensitive.\n",
        "\n",
        "**Benefits of ML-assisted RNA-seq based diagnostics**\n",
        "\n",
        "Machine learning assisted RNA sequencing based diagnostics offer a number of benefits over traditional diagnostic methods, including:\n",
        "\n",
        "  * Improved accuracy and sensitivity: ML algorithms can be trained on large datasets of RNA-seq data to identify biomarkers for cancer with high accuracy and sensitivity. This means that machine learning assisted RNA sequencing based diagnostics can detect cancer earlier and more accurately than traditional methods.\n",
        "  * Reduced invasiveness: RNA-seq can be performed on liquid biopsies, such as blood or urine. This means that ML-assisted RNA-seq based diagnostics can be used to diagnose cancer without the need for invasive procedures such as biopsies.\n",
        "  * Personalization: Machine learning assisted RNA sequencing based diagnostics can be used to develop personalized diagnostic tools that are tailored to the individual patient's tumor. This can help to improve the accuracy of diagnosis and guide treatment decisions.\n"
      ],
      "metadata": {
        "id": "Wx2WqUuYi3yM"
      }
    },
    {
      "cell_type": "markdown",
      "source": [
        "# Importations"
      ],
      "metadata": {
        "id": "-ek9Z_BRahDw"
      }
    },
    {
      "cell_type": "code",
      "source": [
        "# importation\n",
        "\n",
        "# preprocessing\n",
        "import pandas as pd\n",
        "from sklearn.model_selection import train_test_split\n",
        "import numpy as np\n",
        "import matplotlib.pyplot as plt\n",
        "\n",
        "# dimentionality reduction\n",
        "from sklearn.pipeline import Pipeline\n",
        "from sklearn.preprocessing import StandardScaler\n",
        "from sklearn.model_selection import GridSearchCV\n",
        "\n",
        "# models\n",
        "from sklearn.linear_model import LogisticRegression\n",
        "from sklearn.svm import SVC\n",
        "from sklearn.decomposition import PCA\n",
        "from sklearn.preprocessing import StandardScaler\n",
        "from sklearn.naive_bayes import GaussianNB\n",
        "from sklearn.ensemble import RandomForestClassifier\n",
        "from sklearn.neighbors import KNeighborsClassifier\n",
        "from sklearn import tree\n",
        "\n",
        "# evaluations\n",
        "from sklearn.metrics import classification_report\n",
        "from sklearn.metrics import multilabel_confusion_matrix\n",
        "\n",
        "# others\n",
        "from sklearn.tree import export_text\n",
        "import plotly.graph_objects as go"
      ],
      "metadata": {
        "id": "COfTI_00Qvna"
      },
      "execution_count": null,
      "outputs": []
    },
    {
      "cell_type": "markdown",
      "metadata": {
        "id": "pjoo27Pdaoo8"
      },
      "source": [
        "# Data Preprocessings"
      ]
    },
    {
      "cell_type": "markdown",
      "metadata": {
        "id": "3xrH9NyNZiFY"
      },
      "source": [
        "## Features Importation and Preprocessing\n",
        "\n",
        "We extracted features into a Pandas DataFrame named `train_data.` We then transposed the DataFrame (swapped the rows and columns). We then used the Pandas `dropna()` and `drop_duplicates()` functions to preprocess the data. In the end, we had a processed DataFrame consisting of 1845 samples and 16340 features."
      ]
    },
    {
      "cell_type": "code",
      "execution_count": null,
      "metadata": {
        "colab": {
          "background_save": true
        },
        "id": "z8g9klf_RtXM",
        "outputId": "c70acfb2-ece8-4c4f-c5a1-fc587a6b7db3"
      },
      "outputs": [
        {
          "name": "stdout",
          "output_type": "stream",
          "text": [
            "Before processing:  (1845, 16340)\n",
            "After_1 processing:  (1845, 16340)\n",
            "After_2 processing:  (1845, 16340)\n"
          ]
        }
      ],
      "source": [
        "import pandas as pd\n",
        "\n",
        "# Import the training data\n",
        "train_data = pd.read_csv(\"/data/train_data.tsv\", sep='\\t')\n",
        "\n",
        "# Transpose the DataFrame\n",
        "train_data = train_data.T\n",
        "\n",
        "# Remove the last row\n",
        "train_data = train_data.tail(-1)\n",
        "\n",
        "# Print the shape of the DataFrame before processing\n",
        "print(\"Before processing: \",train_data.shape)\n",
        "\n",
        "# Drop rows with missing values\n",
        "train_data_1 = train_data.dropna()\n",
        "\n",
        "# Print the shape of the DataFrame after dropping rows with missing values\n",
        "print(\"After_1 processing: \",train_data_1.shape)\n",
        "\n",
        "# Drop duplicate rows\n",
        "train_data_1.drop_duplicates(inplace = True)\n",
        "\n",
        "# Print the shape of the DataFrame after dropping duplicate rows\n",
        "print(\"After_2 processing: \",train_data_1.shape)"
      ]
    },
    {
      "cell_type": "markdown",
      "metadata": {
        "id": "qLjI1ElfYQr4"
      },
      "source": [
        "## Labels importation\n",
        "\n",
        "We imported and extracted the data labels into a Pandas DataFrame `train_labels`. The DataFrame was extracted from a column named `X_primary_disease` in the metadata file. There were 1845 labels spanning between three cancer classes including `Breast invasive carcinoma`, `kidney clear cell carcinoma`, and `lung adenocarcinoma`."
      ]
    },
    {
      "cell_type": "code",
      "execution_count": null,
      "metadata": {
        "colab": {
          "base_uri": "https://localhost:8080/"
        },
        "id": "LXDU5HLnOnTN",
        "outputId": "e3c2e5b4-9002-45da-b38a-5fa9aefff518"
      },
      "outputs": [
        {
          "data": {
            "text/plain": [
              "(1845,)"
            ]
          },
          "execution_count": 5,
          "metadata": {},
          "output_type": "execute_result"
        }
      ],
      "source": [
        "#labels importation and preprocessing\n",
        "train_labels = pd.read_csv(\"/train_label.tsv\", sep='\\t')\n",
        "train_labels = train_labels.X_primary_disease\n",
        "train_labels.shape"
      ]
    },
    {
      "cell_type": "markdown",
      "metadata": {
        "id": "tvOoU8jUDqeZ"
      },
      "source": [
        "## Splitting Dataset\n",
        "\n",
        "The features and labels parameters are the input and output variables of the dataset, respectively. The test_size parameter specifies the proportion of the dataset to be used for the test set. The random_state parameter is used to ensure that the split is reproducible.\n",
        "\n",
        "The train_test_split() function returns four variables:\n",
        "\n",
        "* X_train: The training data features\n",
        "* X_test: The test data features\n",
        "* y_train: The training data labels\n",
        "* y_test: The test data labels\n",
        "\n",
        "The test_size parameter is set to 0.33, which means that 33% of the dataset will be used for the test set. The random_state parameter is set to 40, which ensures that the split is reproducible."
      ]
    },
    {
      "cell_type": "code",
      "execution_count": null,
      "metadata": {
        "colab": {
          "base_uri": "https://localhost:8080/"
        },
        "id": "wSi8JWJg8LVj",
        "outputId": "efeb2023-5fe8-4c11-dd7e-85203cd19585"
      },
      "outputs": [
        {
          "data": {
            "text/plain": [
              "(1236, 16340)"
            ]
          },
          "execution_count": 5,
          "metadata": {},
          "output_type": "execute_result"
        }
      ],
      "source": [
        "# train_test_split\n",
        "\n",
        "X_train, X_test, y_train, y_test = train_test_split(train_data, train_labels, test_size=0.33, random_state=40)"
      ]
    },
    {
      "cell_type": "markdown",
      "metadata": {
        "id": "st68ZjhPauRQ"
      },
      "source": [
        "# Dimentionality Reduction"
      ]
    },
    {
      "cell_type": "markdown",
      "source": [
        "## Optimizing the PCA\n",
        "\n",
        "Optimizing the PCA through GridSearchCV can help to improve the performance of the machine learning model. GridSearchCV can be used to optimize the PCA by finding the best value for the n_components parameter. The `n_components` parameter specifies the number of principal components to retain. A higher value of n_components will retain more information from the original data, but it will also make the model more complex and more likely to overfit. A lower value of n_components will reduce the complexity of the model, but it will also lose information from the original data.\n",
        "\n",
        "To use GridSearchCV to optimize the PCA, you would first need to create a pipeline that consists of the PCA transformer and the machine learning model that you want to use. The result of the analysis shows `'pca__n_components': 30` is a best parameter with `99% accuracy`."
      ],
      "metadata": {
        "id": "5s7Fod0IudKQ"
      }
    },
    {
      "cell_type": "code",
      "execution_count": null,
      "metadata": {
        "colab": {
          "base_uri": "https://localhost:8080/"
        },
        "id": "vIl3q1CaOZIc",
        "outputId": "c0e8fc66-5127-4505-ad6e-52aaf483eb9f"
      },
      "outputs": [
        {
          "name": "stdout",
          "output_type": "stream",
          "text": [
            "Best parameter (CV score=0.999):\n",
            "{'pca__n_components': 30}\n"
          ]
        }
      ],
      "source": [
        "# optimizing the PCA\n",
        "\n",
        "pca = PCA()\n",
        "scaler = StandardScaler()\n",
        "logistic = LogisticRegression(max_iter=10000, tol=0.1)\n",
        "#svm = SVC(gamma='auto')\n",
        "\n",
        "pipe = Pipeline(steps=[(\"scaler\", scaler), (\"pca\", pca), (\"logistic\", logistic)])\n",
        "\n",
        "param_grid = { \"pca__n_components\": [5, 15, 30, 40, 60] }\n",
        "\n",
        "search = GridSearchCV(pipe, param_grid, n_jobs=2)\n",
        "search.fit(X_train, y_train)\n",
        "print(\"Best parameter (CV score=%0.3f):\" % search.best_score_)\n",
        "print(search.best_params_)"
      ]
    },
    {
      "cell_type": "code",
      "execution_count": null,
      "metadata": {
        "colab": {
          "base_uri": "https://localhost:8080/",
          "height": 783
        },
        "id": "uceedFzOS3LL",
        "outputId": "41da81ac-593f-4420-b907-5c69eb9d417c"
      },
      "outputs": [
        {
          "name": "stderr",
          "output_type": "stream",
          "text": [
            "<ipython-input-7-c723cac4dd0c>:21: FutureWarning: Not prepending group keys to the result index of transform-like apply. In the future, the group keys will be included in the index, regardless of whether the applied function returns a like-indexed object.\n",
            "To preserve the previous behavior, use\n",
            "\n",
            "\t>>> .groupby(..., group_keys=False)\n",
            "\n",
            "To adopt the future behavior and silence this warning, use \n",
            "\n",
            "\t>>> .groupby(..., group_keys=True)\n",
            "  best_clfs = results.groupby(components_col).apply(\n"
          ]
        },
        {
          "data": {
            "image/png": "[encoded data removed]",
            "text/plain": [
              "<Figure size 600x600 with 2 Axes>"
            ]
          },
          "metadata": {},
          "output_type": "display_data"
        }
      ],
      "source": [
        "# Plot the PCA spectrum\n",
        "\n",
        "pca.fit(X_train)\n",
        "\n",
        "fig, (ax0, ax1) = plt.subplots(nrows=2, sharex=True, figsize=(6, 6))\n",
        "ax0.plot(\n",
        "    np.arange(1, pca.n_components_ + 1), pca.explained_variance_ratio_, \"+\", linewidth=2\n",
        ")\n",
        "ax0.set_ylabel(\"PCA explained variance ratio\")\n",
        "\n",
        "ax0.axvline(\n",
        "    search.best_estimator_.named_steps[\"pca\"].n_components,\n",
        "    linestyle=\":\",\n",
        "    label=\"n_components chosen\",\n",
        ")\n",
        "ax0.legend(prop=dict(size=12))\n",
        "\n",
        "# For each number of components, find the best classifier results\n",
        "results = pd.DataFrame(search.cv_results_)\n",
        "components_col = \"param_pca__n_components\"\n",
        "best_clfs = results.groupby(components_col).apply(\n",
        "    lambda g: g.nlargest(1, \"mean_test_score\")\n",
        ")\n",
        "\n",
        "best_clfs.plot(\n",
        "    x=components_col, y=\"mean_test_score\", yerr=\"std_test_score\", legend=False, ax=ax1\n",
        ")\n",
        "ax1.set_ylabel(\"Classification accuracy (val)\")\n",
        "ax1.set_xlabel(\"n_components\")\n",
        "\n",
        "plt.xlim(-1, 70)\n",
        "\n",
        "plt.tight_layout()\n",
        "plt.show()"
      ]
    }
  ]
}