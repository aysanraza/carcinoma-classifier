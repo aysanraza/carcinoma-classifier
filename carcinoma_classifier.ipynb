{
  "nbformat": 4,
  "nbformat_minor": 0,
  "metadata": {
    "colab": {
      "provenance": [],
      "authorship_tag": "ABX9TyOK+CwzLUDww/7d6VW+F8yL"
    },
    "kernelspec": {
      "name": "python3",
      "display_name": "Python 3"
    },
    "language_info": {
      "name": "python"
    }
  },
  "cells": [
    {
      "cell_type": "markdown",
      "source": [
        "# Introduction"
      ],
      "metadata": {
        "id": "xeC08y5Wbg3G"
      }
    },
    {
      "cell_type": "markdown",
      "source": [
        "**Introduction**\n",
        "\n",
        "Machine learning (ML) is a rapidly evolving field that has the potential to revolutionize many industries, including healthcare. ML algorithms can be used to learn from large datasets of data and identify patterns that would be difficult or impossible for humans to find on their own. This makes ML ideal for a variety of tasks in healthcare, such as developing new diagnostic tools and predicting patient outcomes.\n",
        "\n",
        "One area where ML is having a major impact is in the field of RNA sequencing (RNA-seq). RNA-seq is a powerful technology that allows scientists to measure the expression of all the genes in a cell at once. This information can be used to identify biomarkers for disease, understand the molecular mechanisms of cancer, and develop new personalized treatments.\n",
        "\n",
        "ML algorithms can be used to analyze RNA-seq data to identify biomarkers for cancer and other diseases. ML can also be used to develop diagnostic tools that are more accurate and sensitive than traditional methods. For example, ML algorithms have been used to develop diagnostic tests for breast cancer, kidney cancer, and lung cancer that are more accurate than traditional methods such as mammography and biopsy.\n",
        "\n",
        "**Problem statement**\n",
        "\n",
        "Breast invasive carcinoma, kidney clear cell carcinoma, and lung adenocarcinoma are three of the most common types of cancer. Early detection and treatment of these cancers is essential for improving patient outcomes. However, traditional diagnostic methods for these cancers are not always accurate or sensitive.\n",
        "\n",
        "Machine learning assisted RNA sequencing based diagnostics have the potential to overcome the limitations of traditional diagnostic methods. ML algorithms can be used to analyze RNA-seq data to identify biomarkers for these cancers and develop diagnostic tools that are more accurate and sensitive.\n",
        "\n",
        "**Benefits of ML-assisted RNA-seq based diagnostics**\n",
        "\n",
        "Machine learning assisted RNA sequencing based diagnostics offer a number of benefits over traditional diagnostic methods, including:\n",
        "\n",
        "  * Improved accuracy and sensitivity: ML algorithms can be trained on large datasets of RNA-seq data to identify biomarkers for cancer with high accuracy and sensitivity. This means that machine learning assisted RNA sequencing based diagnostics can detect cancer earlier and more accurately than traditional methods.\n",
        "  * Reduced invasiveness: RNA-seq can be performed on liquid biopsies, such as blood or urine. This means that ML-assisted RNA-seq based diagnostics can be used to diagnose cancer without the need for invasive procedures such as biopsies.\n",
        "  * Personalization: Machine learning assisted RNA sequencing based diagnostics can be used to develop personalized diagnostic tools that are tailored to the individual patient's tumor. This can help to improve the accuracy of diagnosis and guide treatment decisions.\n"
      ],
      "metadata": {
        "id": "Wx2WqUuYi3yM"
      }
    },
    {
      "cell_type": "markdown",
      "source": [
        "# Importations"
      ],
      "metadata": {
        "id": "-ek9Z_BRahDw"
      }
    },
    {
      "cell_type": "code",
      "source": [
        "# importation\n",
        "\n",
        "# preprocessing\n",
        "import pandas as pd\n",
        "from sklearn.model_selection import train_test_split\n",
        "import numpy as np\n",
        "import matplotlib.pyplot as plt\n",
        "\n",
        "# dimentionality reduction\n",
        "from sklearn.pipeline import Pipeline\n",
        "from sklearn.preprocessing import StandardScaler\n",
        "from sklearn.model_selection import GridSearchCV\n",
        "\n",
        "# models\n",
        "from sklearn.linear_model import LogisticRegression\n",
        "from sklearn.svm import SVC\n",
        "from sklearn.decomposition import PCA\n",
        "from sklearn.preprocessing import StandardScaler\n",
        "from sklearn.naive_bayes import GaussianNB\n",
        "from sklearn.ensemble import RandomForestClassifier\n",
        "from sklearn.neighbors import KNeighborsClassifier\n",
        "from sklearn import tree\n",
        "\n",
        "# evaluations\n",
        "from sklearn.metrics import classification_report\n",
        "from sklearn.metrics import multilabel_confusion_matrix\n",
        "\n",
        "# others\n",
        "from sklearn.tree import export_text\n",
        "import plotly.graph_objects as go"
      ],
      "metadata": {
        "id": "COfTI_00Qvna"
      },
      "execution_count": null,
      "outputs": []
    },
    {
      "cell_type": "markdown",
      "source": [
        "# Data Preprocessings"
      ],
      "metadata": {
        "id": "pjoo27Pdaoo8"
      }
    },
    {
      "cell_type": "code",
      "execution_count": null,
      "metadata": {
        "colab": {
          "base_uri": "https://localhost:8080/"
        },
        "id": "LXDU5HLnOnTN",
        "outputId": "853d5170-4ec6-4984-f7a5-fd2405b0ea01"
      },
      "outputs": [
        {
          "output_type": "execute_result",
          "data": {
            "text/plain": [
              "(1845,)"
            ]
          },
          "metadata": {},
          "execution_count": 2
        }
      ],
      "source": [
        "#labels importation and preprocessing\n",
        "train_label = pd.read_csv(\"/data/train_label.tsv\", sep='\\t')\n",
        "train_labels = train_label.X_primary_disease\n",
        "train_labels.shape"
      ]
    },
    {
      "cell_type": "code",
      "source": [
        "#features importation and preprocessing\n",
        "train_data = pd.read_csv(\"/data/train_data.tsv\", sep='\\t')\n",
        "train_data = train_data.T\n",
        "train_data = train_data.tail(-1)\n",
        "print(\"Before processing: \",train_data.shape)\n",
        "train_data_1 = train_data.dropna()\n",
        "print(\"After_1 processing: \",train_data_1.shape)"
      ],
      "metadata": {
        "colab": {
          "base_uri": "https://localhost:8080/"
        },
        "id": "z8g9klf_RtXM",
        "outputId": "9fb13c12-68f7-4041-cb04-d38e0d809702"
      },
      "execution_count": null,
      "outputs": [
        {
          "output_type": "stream",
          "name": "stdout",
          "text": [
            "Before processing:  (1845, 16340)\n",
            "After_1 processing:  (1845, 16340)\n"
          ]
        }
      ]
    }
  ]
}